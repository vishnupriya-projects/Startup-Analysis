{
 "cells": [
  {
   "cell_type": "markdown",
   "id": "16ec69fb",
   "metadata": {},
   "source": [
    "# DOMAIN: Startup ecosystem\n",
    "\n",
    "### Overview\n",
    "\n",
    "Company X, a leading Indian online publisher dedicated to startup industry insights, is driven by a mission to empower its audience with actionable knowledge. In the dynamic world of startups, the company recognizes the crucial need to answer a pivotal question: What financial factors differentiate thriving, currently operating startups from those that ultimately cease operations?\n",
    "\n",
    "### Objective:\n",
    "The following are the analysis to conduct on the given dataset.\n",
    "#### 1. Startup Characteristics:\n",
    "- Examine the distribution of startups across different categories or industries to identify the most prevalent sectors.\n",
    "- Investigate the distribution of startup statuses (e.g., operating, closed) to understand the success rates and longevity of startups.\n",
    "    \n",
    "#### 2. Geographic distribution:\n",
    "- Explore patterns in startup distribution across different states, and cities.\n",
    "   \n",
    "#### 3. Funding Analysis:\n",
    "- Analyze the distribution of funding amounts and rounds across different categories and regions.\n",
    "    \n",
    "#### 4. Hypothesis testing:\n",
    "Hypothesis 1: Funding Amount and Startup Success:\n",
    "- Null Hypothesis: There is no significant difference in the mean funding amount between successful startups (operating) and failed startups (closed).\n",
    "- Alternative Hypothesis: Successful startups receive a significantly higher mean funding amount compared to failed startups.\n",
    "- Analysis: Conduct a t-test or ANOVA to compare the funding amounts of successful and failed startups and determine if there is a statistically significant difference.\n",
    "\t\t\n",
    "Hypothesis 2: Relationship between number of funding rounds for operating Startups & closed startups\n",
    "- Null Hypothesis: There is no significant difference in the no. of funding rounds between successful startups (operating) and failed startups (closed).\n",
    "- Alternative Hypothesis: There is a significant difference in the no. of funding rounds between successful startups (operating) and failed startups (closed).\n",
    "- Analysis: Perform a chi-square test or ANOVA to investigate if there are significant differences in the number of funding rounds between successful startups (operating) and failed startups (closed).\n",
    "\t\n",
    "\n",
    "- Dataset Credits --> https://www.kaggle.com/datasets/yanmaksi/big-startup-secsees-fail-dataset-from-crunchbase Filter on country and status column.\n"
   ]
  },
  {
   "cell_type": "markdown",
   "id": "5c62a8a9",
   "metadata": {},
   "source": [
    "### Data Cleaning and Preparation"
   ]
  },
  {
   "cell_type": "code",
   "execution_count": 4,
   "id": "89460289",
   "metadata": {},
   "outputs": [
    {
     "name": "stderr",
     "output_type": "stream",
     "text": [
      "C:\\Users\\admin\\AppData\\Roaming\\Python\\Python311\\site-packages\\pandas\\core\\arrays\\masked.py:60: UserWarning: Pandas requires version '1.3.6' or newer of 'bottleneck' (version '1.3.5' currently installed).\n",
      "  from pandas.core import (\n"
     ]
    }
   ],
   "source": [
    "# import libraries\n",
    "import numpy as np\n",
    "import pandas as pd\n",
    "import matplotlib.pyplot as plt\n",
    "import seaborn as sns \n",
    "\n",
    "%matplotlib inline\n"
   ]
  },
  {
   "cell_type": "code",
   "execution_count": 7,
   "id": "b9cb6d98",
   "metadata": {},
   "outputs": [],
   "source": [
    "# Read the csv file \n",
    "\n",
    "file_path = r'C:\\Users\\admin\\Documents\\python files\\startup-funding-dataset.csv'\n",
    "\n",
    "startup_df = pd.read_csv(file_path)"
   ]
  },
  {
   "cell_type": "code",
   "execution_count": 8,
   "id": "1b93b65f",
   "metadata": {},
   "outputs": [
    {
     "data": {
      "text/html": [
       "<div>\n",
       "<style scoped>\n",
       "    .dataframe tbody tr th:only-of-type {\n",
       "        vertical-align: middle;\n",
       "    }\n",
       "\n",
       "    .dataframe tbody tr th {\n",
       "        vertical-align: top;\n",
       "    }\n",
       "\n",
       "    .dataframe thead th {\n",
       "        text-align: right;\n",
       "    }\n",
       "</style>\n",
       "<table border=\"1\" class=\"dataframe\">\n",
       "  <thead>\n",
       "    <tr style=\"text-align: right;\">\n",
       "      <th></th>\n",
       "      <th>permalink</th>\n",
       "      <th>name</th>\n",
       "      <th>homepage_url</th>\n",
       "      <th>category_list</th>\n",
       "      <th>funding_total_usd</th>\n",
       "      <th>status</th>\n",
       "      <th>country_code</th>\n",
       "      <th>state_code</th>\n",
       "      <th>region</th>\n",
       "      <th>city</th>\n",
       "      <th>funding_rounds</th>\n",
       "      <th>founded_at</th>\n",
       "      <th>first_funding_at</th>\n",
       "      <th>last_funding_at</th>\n",
       "    </tr>\n",
       "  </thead>\n",
       "  <tbody>\n",
       "    <tr>\n",
       "      <th>0</th>\n",
       "      <td>/organization/-fame</td>\n",
       "      <td>#fame</td>\n",
       "      <td>http://livfame.com</td>\n",
       "      <td>Media</td>\n",
       "      <td>10000000.0</td>\n",
       "      <td>operating</td>\n",
       "      <td>IND</td>\n",
       "      <td>16.0</td>\n",
       "      <td>Mumbai</td>\n",
       "      <td>Mumbai</td>\n",
       "      <td>1</td>\n",
       "      <td>NaN</td>\n",
       "      <td>1/5/2015</td>\n",
       "      <td>1/5/2015</td>\n",
       "    </tr>\n",
       "    <tr>\n",
       "      <th>1</th>\n",
       "      <td>/organization/21diamonds-india</td>\n",
       "      <td>21Diamonds</td>\n",
       "      <td>http://www.21diamonds.de</td>\n",
       "      <td>E-Commerce</td>\n",
       "      <td>6369507.0</td>\n",
       "      <td>operating</td>\n",
       "      <td>IND</td>\n",
       "      <td>10.0</td>\n",
       "      <td>New Delhi</td>\n",
       "      <td>Gurgaon</td>\n",
       "      <td>1</td>\n",
       "      <td>6/1/2012</td>\n",
       "      <td>11/15/2012</td>\n",
       "      <td>11/15/2012</td>\n",
       "    </tr>\n",
       "    <tr>\n",
       "      <th>2</th>\n",
       "      <td>/organization/247-learning-private</td>\n",
       "      <td>24x7 Learning</td>\n",
       "      <td>http://www.24x7learning.com</td>\n",
       "      <td>EdTech|Education|Systems</td>\n",
       "      <td>4000000.0</td>\n",
       "      <td>operating</td>\n",
       "      <td>IND</td>\n",
       "      <td>19.0</td>\n",
       "      <td>Bangalore</td>\n",
       "      <td>Bangalore</td>\n",
       "      <td>1</td>\n",
       "      <td>1/1/2001</td>\n",
       "      <td>11/6/2007</td>\n",
       "      <td>11/6/2007</td>\n",
       "    </tr>\n",
       "    <tr>\n",
       "      <th>3</th>\n",
       "      <td>/organization/33coupons</td>\n",
       "      <td>33Coupons</td>\n",
       "      <td>http://33coupons.in</td>\n",
       "      <td>Internet</td>\n",
       "      <td>20000.0</td>\n",
       "      <td>operating</td>\n",
       "      <td>IND</td>\n",
       "      <td>36.0</td>\n",
       "      <td>Kanpur</td>\n",
       "      <td>Kanpur</td>\n",
       "      <td>1</td>\n",
       "      <td>5/1/2015</td>\n",
       "      <td>7/6/2015</td>\n",
       "      <td>7/6/2015</td>\n",
       "    </tr>\n",
       "    <tr>\n",
       "      <th>4</th>\n",
       "      <td>/organization/3dsoc</td>\n",
       "      <td>3DSoC</td>\n",
       "      <td>http://www.3dsoc.com</td>\n",
       "      <td>3D|Mobile</td>\n",
       "      <td>2065000.0</td>\n",
       "      <td>operating</td>\n",
       "      <td>IND</td>\n",
       "      <td>19.0</td>\n",
       "      <td>Bangalore</td>\n",
       "      <td>Bangalore</td>\n",
       "      <td>2</td>\n",
       "      <td>6/1/2006</td>\n",
       "      <td>12/1/2007</td>\n",
       "      <td>8/1/2010</td>\n",
       "    </tr>\n",
       "  </tbody>\n",
       "</table>\n",
       "</div>"
      ],
      "text/plain": [
       "                            permalink           name  \\\n",
       "0                 /organization/-fame          #fame   \n",
       "1      /organization/21diamonds-india     21Diamonds   \n",
       "2  /organization/247-learning-private  24x7 Learning   \n",
       "3             /organization/33coupons      33Coupons   \n",
       "4                 /organization/3dsoc          3DSoC   \n",
       "\n",
       "                  homepage_url             category_list  funding_total_usd  \\\n",
       "0           http://livfame.com                     Media         10000000.0   \n",
       "1     http://www.21diamonds.de                E-Commerce          6369507.0   \n",
       "2  http://www.24x7learning.com  EdTech|Education|Systems          4000000.0   \n",
       "3          http://33coupons.in                  Internet            20000.0   \n",
       "4         http://www.3dsoc.com                 3D|Mobile          2065000.0   \n",
       "\n",
       "      status country_code  state_code     region       city  funding_rounds  \\\n",
       "0  operating          IND        16.0     Mumbai     Mumbai               1   \n",
       "1  operating          IND        10.0  New Delhi    Gurgaon               1   \n",
       "2  operating          IND        19.0  Bangalore  Bangalore               1   \n",
       "3  operating          IND        36.0     Kanpur     Kanpur               1   \n",
       "4  operating          IND        19.0  Bangalore  Bangalore               2   \n",
       "\n",
       "  founded_at first_funding_at last_funding_at  \n",
       "0        NaN         1/5/2015        1/5/2015  \n",
       "1   6/1/2012       11/15/2012      11/15/2012  \n",
       "2   1/1/2001        11/6/2007       11/6/2007  \n",
       "3   5/1/2015         7/6/2015        7/6/2015  \n",
       "4   6/1/2006        12/1/2007        8/1/2010  "
      ]
     },
     "execution_count": 8,
     "metadata": {},
     "output_type": "execute_result"
    }
   ],
   "source": [
    "startup_df.head()"
   ]
  },
  {
   "cell_type": "code",
   "execution_count": 9,
   "id": "e0fce6c0",
   "metadata": {},
   "outputs": [
    {
     "data": {
      "text/html": [
       "<div>\n",
       "<style scoped>\n",
       "    .dataframe tbody tr th:only-of-type {\n",
       "        vertical-align: middle;\n",
       "    }\n",
       "\n",
       "    .dataframe tbody tr th {\n",
       "        vertical-align: top;\n",
       "    }\n",
       "\n",
       "    .dataframe thead th {\n",
       "        text-align: right;\n",
       "    }\n",
       "</style>\n",
       "<table border=\"1\" class=\"dataframe\">\n",
       "  <thead>\n",
       "    <tr style=\"text-align: right;\">\n",
       "      <th></th>\n",
       "      <th>permalink</th>\n",
       "      <th>name</th>\n",
       "      <th>homepage_url</th>\n",
       "      <th>category_list</th>\n",
       "      <th>funding_total_usd</th>\n",
       "      <th>status</th>\n",
       "      <th>country_code</th>\n",
       "      <th>state_code</th>\n",
       "      <th>region</th>\n",
       "      <th>city</th>\n",
       "      <th>funding_rounds</th>\n",
       "      <th>founded_at</th>\n",
       "      <th>first_funding_at</th>\n",
       "      <th>last_funding_at</th>\n",
       "    </tr>\n",
       "  </thead>\n",
       "  <tbody>\n",
       "    <tr>\n",
       "      <th>1129</th>\n",
       "      <td>/organization/zostel</td>\n",
       "      <td>Zostel</td>\n",
       "      <td>http://zostel.com/</td>\n",
       "      <td>E-Commerce</td>\n",
       "      <td>1000000.0</td>\n",
       "      <td>operating</td>\n",
       "      <td>IND</td>\n",
       "      <td>24.0</td>\n",
       "      <td>Jaipur</td>\n",
       "      <td>Jaipur</td>\n",
       "      <td>1</td>\n",
       "      <td>8/1/2013</td>\n",
       "      <td>5/13/2014</td>\n",
       "      <td>5/13/2014</td>\n",
       "    </tr>\n",
       "    <tr>\n",
       "      <th>1130</th>\n",
       "      <td>/organization/zoutons</td>\n",
       "      <td>Zoutons</td>\n",
       "      <td>http://zoutons.com</td>\n",
       "      <td>E-Commerce|Online Shopping|Sales and Marketing</td>\n",
       "      <td>3300000.0</td>\n",
       "      <td>operating</td>\n",
       "      <td>IND</td>\n",
       "      <td>7.0</td>\n",
       "      <td>New Delhi</td>\n",
       "      <td>New Delhi</td>\n",
       "      <td>1</td>\n",
       "      <td>1/1/2013</td>\n",
       "      <td>9/6/2013</td>\n",
       "      <td>9/6/2013</td>\n",
       "    </tr>\n",
       "    <tr>\n",
       "      <th>1131</th>\n",
       "      <td>/organization/zumbl</td>\n",
       "      <td>Zumbl</td>\n",
       "      <td>http://zumbl.com</td>\n",
       "      <td>Chat|Entertainment|Interest Graph|Messaging</td>\n",
       "      <td>140000.0</td>\n",
       "      <td>operating</td>\n",
       "      <td>IND</td>\n",
       "      <td>10.0</td>\n",
       "      <td>New Delhi</td>\n",
       "      <td>Gurgaon</td>\n",
       "      <td>3</td>\n",
       "      <td>11/1/2012</td>\n",
       "      <td>4/3/2013</td>\n",
       "      <td>4/5/2014</td>\n",
       "    </tr>\n",
       "    <tr>\n",
       "      <th>1132</th>\n",
       "      <td>/organization/zupermeal</td>\n",
       "      <td>ZuperMeal</td>\n",
       "      <td>http://www.zupermeal.com</td>\n",
       "      <td>Food Processing</td>\n",
       "      <td>2000000.0</td>\n",
       "      <td>operating</td>\n",
       "      <td>IND</td>\n",
       "      <td>16.0</td>\n",
       "      <td>IND - Other</td>\n",
       "      <td>Andheri</td>\n",
       "      <td>1</td>\n",
       "      <td>NaN</td>\n",
       "      <td>10/8/2015</td>\n",
       "      <td>10/8/2015</td>\n",
       "    </tr>\n",
       "    <tr>\n",
       "      <th>1133</th>\n",
       "      <td>/organization/zuvvu</td>\n",
       "      <td>Zuvvu</td>\n",
       "      <td>http://zuvvu.com</td>\n",
       "      <td>Advertising|Social Media Advertising|Social Me...</td>\n",
       "      <td>12000.0</td>\n",
       "      <td>closed</td>\n",
       "      <td>IND</td>\n",
       "      <td>9.0</td>\n",
       "      <td>Ahmedabad</td>\n",
       "      <td>Ahmadabad</td>\n",
       "      <td>1</td>\n",
       "      <td>6/1/2010</td>\n",
       "      <td>11/1/2011</td>\n",
       "      <td>11/1/2011</td>\n",
       "    </tr>\n",
       "  </tbody>\n",
       "</table>\n",
       "</div>"
      ],
      "text/plain": [
       "                    permalink       name              homepage_url  \\\n",
       "1129     /organization/zostel     Zostel        http://zostel.com/   \n",
       "1130    /organization/zoutons    Zoutons        http://zoutons.com   \n",
       "1131      /organization/zumbl      Zumbl          http://zumbl.com   \n",
       "1132  /organization/zupermeal  ZuperMeal  http://www.zupermeal.com   \n",
       "1133      /organization/zuvvu      Zuvvu          http://zuvvu.com   \n",
       "\n",
       "                                          category_list  funding_total_usd  \\\n",
       "1129                                         E-Commerce          1000000.0   \n",
       "1130     E-Commerce|Online Shopping|Sales and Marketing          3300000.0   \n",
       "1131        Chat|Entertainment|Interest Graph|Messaging           140000.0   \n",
       "1132                                    Food Processing          2000000.0   \n",
       "1133  Advertising|Social Media Advertising|Social Me...            12000.0   \n",
       "\n",
       "         status country_code  state_code       region       city  \\\n",
       "1129  operating          IND        24.0       Jaipur     Jaipur   \n",
       "1130  operating          IND         7.0    New Delhi  New Delhi   \n",
       "1131  operating          IND        10.0    New Delhi    Gurgaon   \n",
       "1132  operating          IND        16.0  IND - Other    Andheri   \n",
       "1133     closed          IND         9.0    Ahmedabad  Ahmadabad   \n",
       "\n",
       "      funding_rounds founded_at first_funding_at last_funding_at  \n",
       "1129               1   8/1/2013        5/13/2014       5/13/2014  \n",
       "1130               1   1/1/2013         9/6/2013        9/6/2013  \n",
       "1131               3  11/1/2012         4/3/2013        4/5/2014  \n",
       "1132               1        NaN        10/8/2015       10/8/2015  \n",
       "1133               1   6/1/2010        11/1/2011       11/1/2011  "
      ]
     },
     "execution_count": 9,
     "metadata": {},
     "output_type": "execute_result"
    }
   ],
   "source": [
    "startup_df.tail()"
   ]
  },
  {
   "cell_type": "code",
   "execution_count": 10,
   "id": "300be273",
   "metadata": {},
   "outputs": [
    {
     "data": {
      "text/plain": [
       "(1134, 14)"
      ]
     },
     "execution_count": 10,
     "metadata": {},
     "output_type": "execute_result"
    }
   ],
   "source": [
    "startup_df.shape"
   ]
  },
  {
   "cell_type": "code",
   "execution_count": 11,
   "id": "128294f9",
   "metadata": {},
   "outputs": [
    {
     "name": "stdout",
     "output_type": "stream",
     "text": [
      "<class 'pandas.core.frame.DataFrame'>\n",
      "RangeIndex: 1134 entries, 0 to 1133\n",
      "Data columns (total 14 columns):\n",
      " #   Column             Non-Null Count  Dtype  \n",
      "---  ------             --------------  -----  \n",
      " 0   permalink          1134 non-null   object \n",
      " 1   name               1134 non-null   object \n",
      " 2   homepage_url       1113 non-null   object \n",
      " 3   category_list      1115 non-null   object \n",
      " 4   funding_total_usd  1134 non-null   float64\n",
      " 5   status             1134 non-null   object \n",
      " 6   country_code       1134 non-null   object \n",
      " 7   state_code         1125 non-null   float64\n",
      " 8   region             1122 non-null   object \n",
      " 9   city               1122 non-null   object \n",
      " 10  funding_rounds     1134 non-null   int64  \n",
      " 11  founded_at         940 non-null    object \n",
      " 12  first_funding_at   1134 non-null   object \n",
      " 13  last_funding_at    1134 non-null   object \n",
      "dtypes: float64(2), int64(1), object(11)\n",
      "memory usage: 124.2+ KB\n"
     ]
    }
   ],
   "source": [
    "startup_df.info()"
   ]
  },
  {
   "cell_type": "code",
   "execution_count": 12,
   "id": "0c845281",
   "metadata": {},
   "outputs": [
    {
     "data": {
      "text/plain": [
       "permalink              0\n",
       "name                   0\n",
       "homepage_url          21\n",
       "category_list         19\n",
       "funding_total_usd      0\n",
       "status                 0\n",
       "country_code           0\n",
       "state_code             9\n",
       "region                12\n",
       "city                  12\n",
       "funding_rounds         0\n",
       "founded_at           194\n",
       "first_funding_at       0\n",
       "last_funding_at        0\n",
       "dtype: int64"
      ]
     },
     "execution_count": 12,
     "metadata": {},
     "output_type": "execute_result"
    }
   ],
   "source": [
    "# to Check the total number of missing values in each column in the dataset \n",
    "missing_values = startup_df.isnull().sum()\n",
    "missing_values"
   ]
  },
  {
   "cell_type": "markdown",
   "id": "795f2b5d",
   "metadata": {},
   "source": [
    "from above data, we require category_list, city columns which are having missing values, funding_total_usd , status, funding_rounds have no missing values. We need to replace the missing values with other suitable values."
   ]
  },
  {
   "cell_type": "code",
   "execution_count": 13,
   "id": "fbae43c5",
   "metadata": {},
   "outputs": [
    {
     "data": {
      "text/plain": [
       "category_list\n",
       "Software                                                                               48\n",
       "E-Commerce                                                                             47\n",
       "Education                                                                              33\n",
       "Internet                                                                               23\n",
       "Mobile                                                                                 21\n",
       "                                                                                       ..\n",
       "Internet|Online Reservations|Restaurants                                                1\n",
       "Enterprise Software|Mobile Software Tools|Mobility|Web Development                      1\n",
       "Enterprises|Marketplaces                                                                1\n",
       "Information Technology|Innovation Management|Service Providers                          1\n",
       "Advertising|Social Media Advertising|Social Media Marketing|Social Media Monitoring     1\n",
       "Name: count, Length: 634, dtype: int64"
      ]
     },
     "execution_count": 13,
     "metadata": {},
     "output_type": "execute_result"
    }
   ],
   "source": [
    "startup_df['category_list'].value_counts()"
   ]
  },
  {
   "cell_type": "markdown",
   "id": "5d79c624",
   "metadata": {},
   "source": [
    "From above data, category have multiple names, we need to extract common words to obtain a defined category."
   ]
  },
  {
   "cell_type": "code",
   "execution_count": 14,
   "id": "2d8b7fa7",
   "metadata": {},
   "outputs": [],
   "source": [
    "# Fixing the category column\n",
    "new_startup_df = startup_df['category_list'].str.split('|', n=1, expand=True)\n"
   ]
  },
  {
   "cell_type": "code",
   "execution_count": 15,
   "id": "64b9bcf0",
   "metadata": {},
   "outputs": [],
   "source": [
    "startup_df['New_category'] = new_startup_df[0]"
   ]
  },
  {
   "cell_type": "code",
   "execution_count": 16,
   "id": "1e7de76a",
   "metadata": {},
   "outputs": [
    {
     "data": {
      "text/plain": [
       "0                 Media\n",
       "1            E-Commerce\n",
       "2                EdTech\n",
       "3              Internet\n",
       "4                    3D\n",
       "             ...       \n",
       "1129         E-Commerce\n",
       "1130         E-Commerce\n",
       "1131               Chat\n",
       "1132    Food Processing\n",
       "1133        Advertising\n",
       "Name: New_category, Length: 1134, dtype: object"
      ]
     },
     "execution_count": 16,
     "metadata": {},
     "output_type": "execute_result"
    }
   ],
   "source": [
    "startup_df['New_category']"
   ]
  },
  {
   "cell_type": "code",
   "execution_count": 17,
   "id": "f577494f",
   "metadata": {},
   "outputs": [
    {
     "data": {
      "text/html": [
       "<div>\n",
       "<style scoped>\n",
       "    .dataframe tbody tr th:only-of-type {\n",
       "        vertical-align: middle;\n",
       "    }\n",
       "\n",
       "    .dataframe tbody tr th {\n",
       "        vertical-align: top;\n",
       "    }\n",
       "\n",
       "    .dataframe thead th {\n",
       "        text-align: right;\n",
       "    }\n",
       "</style>\n",
       "<table border=\"1\" class=\"dataframe\">\n",
       "  <thead>\n",
       "    <tr style=\"text-align: right;\">\n",
       "      <th></th>\n",
       "      <th>permalink</th>\n",
       "      <th>name</th>\n",
       "      <th>homepage_url</th>\n",
       "      <th>category_list</th>\n",
       "      <th>funding_total_usd</th>\n",
       "      <th>status</th>\n",
       "      <th>country_code</th>\n",
       "      <th>state_code</th>\n",
       "      <th>region</th>\n",
       "      <th>city</th>\n",
       "      <th>funding_rounds</th>\n",
       "      <th>founded_at</th>\n",
       "      <th>first_funding_at</th>\n",
       "      <th>last_funding_at</th>\n",
       "      <th>New_category</th>\n",
       "    </tr>\n",
       "  </thead>\n",
       "  <tbody>\n",
       "    <tr>\n",
       "      <th>0</th>\n",
       "      <td>/organization/-fame</td>\n",
       "      <td>#fame</td>\n",
       "      <td>http://livfame.com</td>\n",
       "      <td>Media</td>\n",
       "      <td>10000000.0</td>\n",
       "      <td>operating</td>\n",
       "      <td>IND</td>\n",
       "      <td>16.0</td>\n",
       "      <td>Mumbai</td>\n",
       "      <td>Mumbai</td>\n",
       "      <td>1</td>\n",
       "      <td>NaN</td>\n",
       "      <td>1/5/2015</td>\n",
       "      <td>1/5/2015</td>\n",
       "      <td>Media</td>\n",
       "    </tr>\n",
       "    <tr>\n",
       "      <th>1</th>\n",
       "      <td>/organization/21diamonds-india</td>\n",
       "      <td>21Diamonds</td>\n",
       "      <td>http://www.21diamonds.de</td>\n",
       "      <td>E-Commerce</td>\n",
       "      <td>6369507.0</td>\n",
       "      <td>operating</td>\n",
       "      <td>IND</td>\n",
       "      <td>10.0</td>\n",
       "      <td>New Delhi</td>\n",
       "      <td>Gurgaon</td>\n",
       "      <td>1</td>\n",
       "      <td>6/1/2012</td>\n",
       "      <td>11/15/2012</td>\n",
       "      <td>11/15/2012</td>\n",
       "      <td>E-Commerce</td>\n",
       "    </tr>\n",
       "    <tr>\n",
       "      <th>2</th>\n",
       "      <td>/organization/247-learning-private</td>\n",
       "      <td>24x7 Learning</td>\n",
       "      <td>http://www.24x7learning.com</td>\n",
       "      <td>EdTech|Education|Systems</td>\n",
       "      <td>4000000.0</td>\n",
       "      <td>operating</td>\n",
       "      <td>IND</td>\n",
       "      <td>19.0</td>\n",
       "      <td>Bangalore</td>\n",
       "      <td>Bangalore</td>\n",
       "      <td>1</td>\n",
       "      <td>1/1/2001</td>\n",
       "      <td>11/6/2007</td>\n",
       "      <td>11/6/2007</td>\n",
       "      <td>EdTech</td>\n",
       "    </tr>\n",
       "    <tr>\n",
       "      <th>3</th>\n",
       "      <td>/organization/33coupons</td>\n",
       "      <td>33Coupons</td>\n",
       "      <td>http://33coupons.in</td>\n",
       "      <td>Internet</td>\n",
       "      <td>20000.0</td>\n",
       "      <td>operating</td>\n",
       "      <td>IND</td>\n",
       "      <td>36.0</td>\n",
       "      <td>Kanpur</td>\n",
       "      <td>Kanpur</td>\n",
       "      <td>1</td>\n",
       "      <td>5/1/2015</td>\n",
       "      <td>7/6/2015</td>\n",
       "      <td>7/6/2015</td>\n",
       "      <td>Internet</td>\n",
       "    </tr>\n",
       "    <tr>\n",
       "      <th>4</th>\n",
       "      <td>/organization/3dsoc</td>\n",
       "      <td>3DSoC</td>\n",
       "      <td>http://www.3dsoc.com</td>\n",
       "      <td>3D|Mobile</td>\n",
       "      <td>2065000.0</td>\n",
       "      <td>operating</td>\n",
       "      <td>IND</td>\n",
       "      <td>19.0</td>\n",
       "      <td>Bangalore</td>\n",
       "      <td>Bangalore</td>\n",
       "      <td>2</td>\n",
       "      <td>6/1/2006</td>\n",
       "      <td>12/1/2007</td>\n",
       "      <td>8/1/2010</td>\n",
       "      <td>3D</td>\n",
       "    </tr>\n",
       "  </tbody>\n",
       "</table>\n",
       "</div>"
      ],
      "text/plain": [
       "                            permalink           name  \\\n",
       "0                 /organization/-fame          #fame   \n",
       "1      /organization/21diamonds-india     21Diamonds   \n",
       "2  /organization/247-learning-private  24x7 Learning   \n",
       "3             /organization/33coupons      33Coupons   \n",
       "4                 /organization/3dsoc          3DSoC   \n",
       "\n",
       "                  homepage_url             category_list  funding_total_usd  \\\n",
       "0           http://livfame.com                     Media         10000000.0   \n",
       "1     http://www.21diamonds.de                E-Commerce          6369507.0   \n",
       "2  http://www.24x7learning.com  EdTech|Education|Systems          4000000.0   \n",
       "3          http://33coupons.in                  Internet            20000.0   \n",
       "4         http://www.3dsoc.com                 3D|Mobile          2065000.0   \n",
       "\n",
       "      status country_code  state_code     region       city  funding_rounds  \\\n",
       "0  operating          IND        16.0     Mumbai     Mumbai               1   \n",
       "1  operating          IND        10.0  New Delhi    Gurgaon               1   \n",
       "2  operating          IND        19.0  Bangalore  Bangalore               1   \n",
       "3  operating          IND        36.0     Kanpur     Kanpur               1   \n",
       "4  operating          IND        19.0  Bangalore  Bangalore               2   \n",
       "\n",
       "  founded_at first_funding_at last_funding_at New_category  \n",
       "0        NaN         1/5/2015        1/5/2015        Media  \n",
       "1   6/1/2012       11/15/2012      11/15/2012   E-Commerce  \n",
       "2   1/1/2001        11/6/2007       11/6/2007       EdTech  \n",
       "3   5/1/2015         7/6/2015        7/6/2015     Internet  \n",
       "4   6/1/2006        12/1/2007        8/1/2010           3D  "
      ]
     },
     "execution_count": 17,
     "metadata": {},
     "output_type": "execute_result"
    }
   ],
   "source": [
    "#Checking whether new column updated or not\n",
    "startup_df.head()"
   ]
  },
  {
   "cell_type": "markdown",
   "id": "2140ec21",
   "metadata": {},
   "source": [
    "### Data Analysis"
   ]
  },
  {
   "cell_type": "code",
   "execution_count": 18,
   "id": "1fc33679",
   "metadata": {},
   "outputs": [
    {
     "data": {
      "text/html": [
       "<div>\n",
       "<style scoped>\n",
       "    .dataframe tbody tr th:only-of-type {\n",
       "        vertical-align: middle;\n",
       "    }\n",
       "\n",
       "    .dataframe tbody tr th {\n",
       "        vertical-align: top;\n",
       "    }\n",
       "\n",
       "    .dataframe thead th {\n",
       "        text-align: right;\n",
       "    }\n",
       "</style>\n",
       "<table border=\"1\" class=\"dataframe\">\n",
       "  <thead>\n",
       "    <tr style=\"text-align: right;\">\n",
       "      <th></th>\n",
       "      <th>funding_total_usd</th>\n",
       "      <th>state_code</th>\n",
       "      <th>funding_rounds</th>\n",
       "    </tr>\n",
       "  </thead>\n",
       "  <tbody>\n",
       "    <tr>\n",
       "      <th>count</th>\n",
       "      <td>1134</td>\n",
       "      <td>1125</td>\n",
       "      <td>1134</td>\n",
       "    </tr>\n",
       "    <tr>\n",
       "      <th>mean</th>\n",
       "      <td>23391193</td>\n",
       "      <td>16</td>\n",
       "      <td>1</td>\n",
       "    </tr>\n",
       "    <tr>\n",
       "      <th>std</th>\n",
       "      <td>153640842</td>\n",
       "      <td>8</td>\n",
       "      <td>1</td>\n",
       "    </tr>\n",
       "    <tr>\n",
       "      <th>min</th>\n",
       "      <td>569</td>\n",
       "      <td>2</td>\n",
       "      <td>1</td>\n",
       "    </tr>\n",
       "    <tr>\n",
       "      <th>25%</th>\n",
       "      <td>200000</td>\n",
       "      <td>10</td>\n",
       "      <td>1</td>\n",
       "    </tr>\n",
       "    <tr>\n",
       "      <th>50%</th>\n",
       "      <td>1275000</td>\n",
       "      <td>16</td>\n",
       "      <td>1</td>\n",
       "    </tr>\n",
       "    <tr>\n",
       "      <th>75%</th>\n",
       "      <td>10000000</td>\n",
       "      <td>19</td>\n",
       "      <td>2</td>\n",
       "    </tr>\n",
       "    <tr>\n",
       "      <th>max</th>\n",
       "      <td>3151140000</td>\n",
       "      <td>36</td>\n",
       "      <td>12</td>\n",
       "    </tr>\n",
       "  </tbody>\n",
       "</table>\n",
       "</div>"
      ],
      "text/plain": [
       "       funding_total_usd  state_code  funding_rounds\n",
       "count               1134        1125            1134\n",
       "mean            23391193          16               1\n",
       "std            153640842           8               1\n",
       "min                  569           2               1\n",
       "25%               200000          10               1\n",
       "50%              1275000          16               1\n",
       "75%             10000000          19               2\n",
       "max           3151140000          36              12"
      ]
     },
     "execution_count": 18,
     "metadata": {},
     "output_type": "execute_result"
    }
   ],
   "source": [
    "#let us understand the data using describe function\n",
    "\n",
    "# before that we need to round off the values to zero decimal points to get complete value\n",
    "# Set the display format for float numbers to display complete numbers\n",
    "pd.options.display.float_format = '{:.0f}'.format\n",
    "\n",
    "# By setting pd.options.display.float_format to ' {:.0f}'.format, you instruct pandas to format floating-point numbers with \n",
    "# zero decimal places, effectively displaying complete numbers.\n",
    "\n",
    "startup_df.describe()\n"
   ]
  },
  {
   "cell_type": "markdown",
   "id": "0e54613d",
   "metadata": {},
   "source": [
    "- from the data we can see that average funding is 23 million dollars, max funding was 3 billion dollars, min was 569 dollars.\n",
    "- in terms of funding rounds, avg funding round for all startups was '1', min funding round also '1' representing every startup has atleast '1' funding rounds & max no of funding rounds happen was '12' "
   ]
  },
  {
   "cell_type": "markdown",
   "id": "5d727be5",
   "metadata": {},
   "source": [
    "### Let us analyse the objectives one by one to get more about the data.\n",
    "\n",
    "#### 1. Examine the distribution of startups across different categories or industries to identify the most prevalent sectors."
   ]
  },
  {
   "cell_type": "code",
   "execution_count": 19,
   "id": "8a7b0bd0",
   "metadata": {},
   "outputs": [
    {
     "name": "stdout",
     "output_type": "stream",
     "text": [
      "<class 'pandas.core.frame.DataFrame'>\n",
      "RangeIndex: 1134 entries, 0 to 1133\n",
      "Data columns (total 15 columns):\n",
      " #   Column             Non-Null Count  Dtype  \n",
      "---  ------             --------------  -----  \n",
      " 0   permalink          1134 non-null   object \n",
      " 1   name               1134 non-null   object \n",
      " 2   homepage_url       1113 non-null   object \n",
      " 3   category_list      1115 non-null   object \n",
      " 4   funding_total_usd  1134 non-null   float64\n",
      " 5   status             1134 non-null   object \n",
      " 6   country_code       1134 non-null   object \n",
      " 7   state_code         1125 non-null   float64\n",
      " 8   region             1122 non-null   object \n",
      " 9   city               1122 non-null   object \n",
      " 10  funding_rounds     1134 non-null   int64  \n",
      " 11  founded_at         940 non-null    object \n",
      " 12  first_funding_at   1134 non-null   object \n",
      " 13  last_funding_at    1134 non-null   object \n",
      " 14  New_category       1115 non-null   object \n",
      "dtypes: float64(2), int64(1), object(12)\n",
      "memory usage: 133.0+ KB\n"
     ]
    }
   ],
   "source": [
    "startup_df.info()"
   ]
  },
  {
   "cell_type": "code",
   "execution_count": 20,
   "id": "1198e2eb",
   "metadata": {},
   "outputs": [
    {
     "data": {
      "text/plain": [
       "New_category\n",
       "E-Commerce              104\n",
       "Education                51\n",
       "Software                 49\n",
       "Internet                 34\n",
       "Curated Web              34\n",
       "                       ... \n",
       "Knowledge Management      1\n",
       "Local Search              1\n",
       "Engineering Firms         1\n",
       "Organic                   1\n",
       "Groceries                 1\n",
       "Name: count, Length: 233, dtype: int64"
      ]
     },
     "execution_count": 20,
     "metadata": {},
     "output_type": "execute_result"
    }
   ],
   "source": [
    "# let us see the distribution of the categories of startups\n",
    "\n",
    "category_count = startup_df['New_category'].value_counts()\n",
    "category_count"
   ]
  },
  {
   "cell_type": "markdown",
   "id": "27105ea5",
   "metadata": {},
   "source": [
    "from above data, we see that E-commerce, education, software, internet & web are the categories having the major startups. "
   ]
  },
  {
   "cell_type": "markdown",
   "id": "b8e4a0e6",
   "metadata": {},
   "source": [
    "#### 2. Investigate the distribution of startup statuses (e.g., operating, closed) to understand the success rates and longevity of startups."
   ]
  },
  {
   "cell_type": "code",
   "execution_count": 21,
   "id": "67b7f2a8",
   "metadata": {},
   "outputs": [
    {
     "data": {
      "image/png": "[encoded data removed]",
      "text/plain": [
       "<Figure size 640x480 with 1 Axes>"
      ]
     },
     "metadata": {},
     "output_type": "display_data"
    }
   ],
   "source": [
    "# let us see the distribution of status of the startups\n",
    "\n",
    "status_counts = startup_df['status'].value_counts()\n",
    "\n",
    "# lets visualize the status of the startups\n",
    "plt.bar(status_counts.index, status_counts.values, color='Blue')\n",
    "plt.xlabel('status')\n",
    "plt.ylabel('count')\n",
    "plt.title('Distribution of status of the startups')\n",
    "\n",
    "# Adding data labels (count values) to the bars\n",
    "for i, v in enumerate(status_counts):\n",
    "    plt.text(i, v + 10, v, ha='center')\n",
    "    # i: This is the x-coordinate where the data label will be placed.\n",
    "    # v + 10: This is the y-coordinate where the data label will be placed\n",
    "    # ha='center': This parameter specifies the horizontal alignment of the text, ensuring that it's centered above each bar.\n",
    "\n",
    "# Display the plot\n",
    "plt.show()"
   ]
  },
  {
   "cell_type": "markdown",
   "id": "ea86a7af",
   "metadata": {},
   "source": [
    "from above analysis, it was clear that majority of startups(1085) are still in operating state & very few (49) are closed."
   ]
  },
  {
   "cell_type": "code",
   "execution_count": 43,
   "id": "f280fd02",
   "metadata": {},
   "outputs": [
    {
     "data": {
      "text/plain": [
       "New_category\n",
       "E-Commerce                6\n",
       "Advertising               5\n",
       "Finance                   3\n",
       "News                      2\n",
       "Software                  2\n",
       "Information Technology    2\n",
       "Classifieds               2\n",
       "Mobile                    2\n",
       "Delivery                  2\n",
       "SaaS                      1\n",
       "Cloud Computing           1\n",
       "Bio-Pharm                 1\n",
       "Logistics                 1\n",
       "Public Transportation     1\n",
       "Education                 1\n",
       "Retail                    1\n",
       "Games                     1\n",
       "Business Services         1\n",
       "App Stores                1\n",
       "Investment Management     1\n",
       "Computers                 1\n",
       "Travel                    1\n",
       "Consumer Goods            1\n",
       "Local Search              1\n",
       "Entertainment             1\n",
       "Search                    1\n",
       "Beauty                    1\n",
       "EdTech                    1\n",
       "Advice                    1\n",
       "Governments               1\n",
       "Fitness                   1\n",
       "Name: count, dtype: int64"
      ]
     },
     "execution_count": 43,
     "metadata": {},
     "output_type": "execute_result"
    }
   ],
   "source": [
    "# let us see which category companies are operating & closed\n",
    "\n",
    "closed_startups = startup_df.loc[startup_df['status']=='closed']\n",
    "closed_startups['New_category'].value_counts()"
   ]
  },
  {
   "cell_type": "markdown",
   "id": "e9a4b2ca",
   "metadata": {},
   "source": [
    "Among closed startups, E-commerce based are closed majorly followed by adverstising, finance & IT."
   ]
  },
  {
   "cell_type": "code",
   "execution_count": 44,
   "id": "e076d397",
   "metadata": {},
   "outputs": [
    {
     "data": {
      "text/plain": [
       "region\n",
       "Bangalore     14\n",
       "Mumbai        13\n",
       "Delhi          8\n",
       "Chennai        4\n",
       "Hyderabad      3\n",
       "Chandigarh     1\n",
       "Ghaziabad      1\n",
       "Coimbatore     1\n",
       "Ahmedabad      1\n",
       "Name: count, dtype: int64"
      ]
     },
     "execution_count": 44,
     "metadata": {},
     "output_type": "execute_result"
    }
   ],
   "source": [
    "closed_startups['region'].value_counts()"
   ]
  },
  {
   "cell_type": "code",
   "execution_count": null,
   "id": "731443e5",
   "metadata": {},
   "outputs": [],
   "source": [
    "majority of closed startups belong to banglore & mumbai followed by delhi, chennai regions."
   ]
  },
  {
   "cell_type": "markdown",
   "id": "d0d465e4",
   "metadata": {},
   "source": [
    "#### 3. Explore patterns in startup distribution across different region and cities."
   ]
  },
  {
   "cell_type": "code",
   "execution_count": 23,
   "id": "37c8ccd4",
   "metadata": {},
   "outputs": [
    {
     "data": {
      "text/plain": [
       "array(['Mumbai', 'New Delhi', 'Bangalore', 'Kanpur', 'Vadodara',\n",
       "       'Chandigarh', 'Hyderabad', 'IND - Other', 'Pune', 'Ahmedabad',\n",
       "       'Kolkata', 'Bhubaneswar', 'Delhi', 'Jaipur', 'Chennai',\n",
       "       'Secunderabad', 'Guwahati', 'Haryana', 'Goa', 'Mangalore', nan,\n",
       "       'Cochin', 'Ghaziabad', 'Trivandrum', 'Faridabad', 'Nasik',\n",
       "       'Mysore', 'Surat', 'Vellore', 'Kochi', 'Jodhpur', 'Coimbatore',\n",
       "       'Madhapur', 'Indore', 'Mohali', 'Nagpur', 'Hubli',\n",
       "       'Thiruvananthapuram', 'Thane', 'Bhopal', 'Ernakulam', 'Thrissur',\n",
       "       'Jabalpur', 'Ludhiana', 'Belgaum'], dtype=object)"
      ]
     },
     "execution_count": 23,
     "metadata": {},
     "output_type": "execute_result"
    }
   ],
   "source": [
    "# let us check any duplicate/misspelled region in data set\n",
    "\n",
    "unique_region = pd.unique(startup_df['region'])\n",
    "unique_region\n",
    "# city_counts = unique_cities['city'].value_counts()\n",
    "# city_counts"
   ]
  },
  {
   "cell_type": "code",
   "execution_count": 30,
   "id": "b6e9121c",
   "metadata": {},
   "outputs": [
    {
     "data": {
      "text/plain": [
       "array(['Mumbai', 'Delhi', 'Bangalore', 'Kanpur', 'Vadodara', 'Chandigarh',\n",
       "       'Hyderabad', 'IND - Other', 'Pune', 'Ahmedabad', 'Kolkata',\n",
       "       'Bhubaneswar', 'Jaipur', 'Chennai', 'Guwahati', 'Haryana', 'Goa',\n",
       "       'Mangalore', nan, 'Kochi', 'Ghaziabad', 'Trivandrum', 'Faridabad',\n",
       "       'Nasik', 'Mysore', 'Surat', 'Vellore', 'Jodhpur', 'Coimbatore',\n",
       "       'Indore', 'Mohali', 'Nagpur', 'Hubli', 'Thiruvananthapuram',\n",
       "       'Thane', 'Bhopal', 'Ernakulam', 'Thrissur', 'Jabalpur', 'Ludhiana',\n",
       "       'Belgaum'], dtype=object)"
      ]
     },
     "execution_count": 30,
     "metadata": {},
     "output_type": "execute_result"
    }
   ],
   "source": [
    "# duplicate_regions = ['New Delhi','Delhi'], ['Hyderabad','Secunderabad','Madhapur'], ['Cochin','Kochi',]\n",
    "\n",
    "# the above are the duplicate names need to replace with same string.\n",
    "\n",
    "startup_df['region'] = startup_df['region'].replace(['New Delhi','Delhi'], 'Delhi')\n",
    "startup_df['region'] = startup_df['region'].replace(['Hyderabad','Secunderabad','Madhapur'], 'Hyderabad')\n",
    "startup_df['region'] = startup_df['region'].replace(['Cochin','Kochi'], 'Kochi')\n",
    "\n",
    "\n",
    "updated_unique_regions = pd.unique(startup_df['region'])\n",
    "updated_unique_regions"
   ]
  },
  {
   "cell_type": "code",
   "execution_count": 32,
   "id": "cf759587",
   "metadata": {},
   "outputs": [
    {
     "data": {
      "text/plain": [
       "region\n",
       "Bangalore             300\n",
       "Delhi                 277\n",
       "Mumbai                221\n",
       "Hyderabad              78\n",
       "Chennai                57\n",
       "Pune                   37\n",
       "IND - Other            33\n",
       "Haryana                18\n",
       "Ahmedabad              18\n",
       "Kochi                  12\n",
       "Kolkata                 9\n",
       "Jaipur                  9\n",
       "Chandigarh              5\n",
       "Indore                  5\n",
       "Bhubaneswar             4\n",
       "Nagpur                  4\n",
       "Vadodara                3\n",
       "Ghaziabad               3\n",
       "Mohali                  2\n",
       "Mysore                  2\n",
       "Coimbatore              2\n",
       "Jodhpur                 2\n",
       "Vellore                 2\n",
       "Goa                     2\n",
       "Nasik                   2\n",
       "Bhopal                  1\n",
       "Ernakulam               1\n",
       "Thrissur                1\n",
       "Thiruvananthapuram      1\n",
       "Jabalpur                1\n",
       "Ludhiana                1\n",
       "Thane                   1\n",
       "Trivandrum              1\n",
       "Hubli                   1\n",
       "Surat                   1\n",
       "Faridabad               1\n",
       "Mangalore               1\n",
       "Guwahati                1\n",
       "Kanpur                  1\n",
       "Belgaum                 1\n",
       "Name: count, dtype: int64"
      ]
     },
     "execution_count": 32,
     "metadata": {},
     "output_type": "execute_result"
    }
   ],
   "source": [
    "region_counts = startup_df['region'].value_counts()\n",
    "region_counts"
   ]
  },
  {
   "cell_type": "code",
   "execution_count": 97,
   "id": "e8f9926d",
   "metadata": {
    "scrolled": true
   },
   "outputs": [
    {
     "data": {
      "image/png": "[encoded data removed]",
      "text/plain": [
       "<Figure size 1000x600 with 1 Axes>"
      ]
     },
     "metadata": {},
     "output_type": "display_data"
    }
   ],
   "source": [
    "# let us count startups across various cities\n",
    "region_counts = startup_df['region'].value_counts()\n",
    "\n",
    "#plotting\n",
    "plt.figure(figsize=(10, 6))\n",
    "plt.bar(region_counts.index, region_counts.values, color = 'blue')\n",
    "plt.xlabel('region')\n",
    "plt.ylabel('Count')\n",
    "plt.title('Distribution of startups across various regions')\n",
    "plt.xticks(rotation=45, ha='right')\n",
    "\n",
    "# Adding data labels (count values) to the bars\n",
    "for i, v in enumerate(region_counts):\n",
    "    plt.text(i, v + 10, v, ha='center')\n",
    "    # i: This is the x-coordinate where the data label will be placed.\n",
    "    # v + 10: This is the y-coordinate where the data label will be placed\n",
    "    # ha='center': This parameter specifies the horizontal alignment of the text, ensuring that it's centered above each bar.\n",
    "plt.show()\n"
   ]
  },
  {
   "cell_type": "markdown",
   "id": "d3159d17",
   "metadata": {},
   "source": [
    "- from the above analysis we say that almost all the startups are at banglore, delhi & mumbai follwed by hyderabad, chennai, pune. \n",
    "- remaining all other places have very few startups which are less than 20.\n",
    "- this representing that majority of startups are growing in major metro cities than other regions in india.\n"
   ]
  },
  {
   "cell_type": "markdown",
   "id": "6981f9f4",
   "metadata": {},
   "source": [
    "#### 4. Analyze the distribution of funding amounts and rounds across different categories and regions."
   ]
  },
  {
   "cell_type": "code",
   "execution_count": 54,
   "id": "842abbee",
   "metadata": {},
   "outputs": [
    {
     "data": {
      "text/html": [
       "<div>\n",
       "<style scoped>\n",
       "    .dataframe tbody tr th:only-of-type {\n",
       "        vertical-align: middle;\n",
       "    }\n",
       "\n",
       "    .dataframe tbody tr th {\n",
       "        vertical-align: top;\n",
       "    }\n",
       "\n",
       "    .dataframe thead th {\n",
       "        text-align: right;\n",
       "    }\n",
       "</style>\n",
       "<table border=\"1\" class=\"dataframe\">\n",
       "  <thead>\n",
       "    <tr style=\"text-align: right;\">\n",
       "      <th></th>\n",
       "      <th>funding_total_usd</th>\n",
       "      <th>funding_rounds</th>\n",
       "    </tr>\n",
       "  </thead>\n",
       "  <tbody>\n",
       "    <tr>\n",
       "      <th>count</th>\n",
       "      <td>1134</td>\n",
       "      <td>1134</td>\n",
       "    </tr>\n",
       "    <tr>\n",
       "      <th>mean</th>\n",
       "      <td>23391193</td>\n",
       "      <td>1</td>\n",
       "    </tr>\n",
       "    <tr>\n",
       "      <th>std</th>\n",
       "      <td>153640842</td>\n",
       "      <td>1</td>\n",
       "    </tr>\n",
       "    <tr>\n",
       "      <th>min</th>\n",
       "      <td>569</td>\n",
       "      <td>1</td>\n",
       "    </tr>\n",
       "    <tr>\n",
       "      <th>25%</th>\n",
       "      <td>200000</td>\n",
       "      <td>1</td>\n",
       "    </tr>\n",
       "    <tr>\n",
       "      <th>50%</th>\n",
       "      <td>1275000</td>\n",
       "      <td>1</td>\n",
       "    </tr>\n",
       "    <tr>\n",
       "      <th>75%</th>\n",
       "      <td>10000000</td>\n",
       "      <td>2</td>\n",
       "    </tr>\n",
       "    <tr>\n",
       "      <th>max</th>\n",
       "      <td>3151140000</td>\n",
       "      <td>12</td>\n",
       "    </tr>\n",
       "  </tbody>\n",
       "</table>\n",
       "</div>"
      ],
      "text/plain": [
       "       funding_total_usd  funding_rounds\n",
       "count               1134            1134\n",
       "mean            23391193               1\n",
       "std            153640842               1\n",
       "min                  569               1\n",
       "25%               200000               1\n",
       "50%              1275000               1\n",
       "75%             10000000               2\n",
       "max           3151140000              12"
      ]
     },
     "execution_count": 54,
     "metadata": {},
     "output_type": "execute_result"
    }
   ],
   "source": [
    "# let us see the distribution of fund amount \n",
    "\n",
    "#startup_df.info()\n",
    "startup_df[['funding_total_usd','funding_rounds']].describe()"
   ]
  },
  {
   "cell_type": "code",
   "execution_count": 60,
   "id": "e022ad74",
   "metadata": {},
   "outputs": [
    {
     "data": {
      "text/html": [
       "<div>\n",
       "<style scoped>\n",
       "    .dataframe tbody tr th:only-of-type {\n",
       "        vertical-align: middle;\n",
       "    }\n",
       "\n",
       "    .dataframe tbody tr th {\n",
       "        vertical-align: top;\n",
       "    }\n",
       "\n",
       "    .dataframe thead th {\n",
       "        text-align: right;\n",
       "    }\n",
       "</style>\n",
       "<table border=\"1\" class=\"dataframe\">\n",
       "  <thead>\n",
       "    <tr style=\"text-align: right;\">\n",
       "      <th></th>\n",
       "      <th>permalink</th>\n",
       "      <th>name</th>\n",
       "      <th>homepage_url</th>\n",
       "      <th>category_list</th>\n",
       "      <th>funding_total_usd</th>\n",
       "      <th>status</th>\n",
       "      <th>country_code</th>\n",
       "      <th>state_code</th>\n",
       "      <th>region</th>\n",
       "      <th>city</th>\n",
       "      <th>funding_rounds</th>\n",
       "      <th>founded_at</th>\n",
       "      <th>first_funding_at</th>\n",
       "      <th>last_funding_at</th>\n",
       "      <th>New_category</th>\n",
       "    </tr>\n",
       "  </thead>\n",
       "  <tbody>\n",
       "    <tr>\n",
       "      <th>321</th>\n",
       "      <td>/organization/flipkart</td>\n",
       "      <td>Flipkart</td>\n",
       "      <td>http://www.flipkart.com</td>\n",
       "      <td>E-Commerce|Online Shopping</td>\n",
       "      <td>3151140000</td>\n",
       "      <td>operating</td>\n",
       "      <td>IND</td>\n",
       "      <td>19</td>\n",
       "      <td>Bangalore</td>\n",
       "      <td>Bangalore</td>\n",
       "      <td>12</td>\n",
       "      <td>9/1/2007</td>\n",
       "      <td>1/1/2009</td>\n",
       "      <td>7/28/2015</td>\n",
       "      <td>E-Commerce</td>\n",
       "    </tr>\n",
       "  </tbody>\n",
       "</table>\n",
       "</div>"
      ],
      "text/plain": [
       "                  permalink      name             homepage_url  \\\n",
       "321  /organization/flipkart  Flipkart  http://www.flipkart.com   \n",
       "\n",
       "                  category_list  funding_total_usd     status country_code  \\\n",
       "321  E-Commerce|Online Shopping         3151140000  operating          IND   \n",
       "\n",
       "     state_code     region       city  funding_rounds founded_at  \\\n",
       "321          19  Bangalore  Bangalore              12   9/1/2007   \n",
       "\n",
       "    first_funding_at last_funding_at New_category  \n",
       "321         1/1/2009       7/28/2015   E-Commerce  "
      ]
     },
     "execution_count": 60,
     "metadata": {},
     "output_type": "execute_result"
    }
   ],
   "source": [
    "startup_df[(startup_df['funding_total_usd']==3151140000) & (startup_df['funding_rounds']==12)]"
   ]
  },
  {
   "cell_type": "markdown",
   "id": "26e11122",
   "metadata": {},
   "source": [
    "here, among min & max fund amount are 31billion dollars & 569 dollars in which filpkart is the comapny having highest fundings & funding rounds."
   ]
  },
  {
   "cell_type": "code",
   "execution_count": 61,
   "id": "9f6310e5",
   "metadata": {},
   "outputs": [
    {
     "data": {
      "text/html": [
       "<div>\n",
       "<style scoped>\n",
       "    .dataframe tbody tr th:only-of-type {\n",
       "        vertical-align: middle;\n",
       "    }\n",
       "\n",
       "    .dataframe tbody tr th {\n",
       "        vertical-align: top;\n",
       "    }\n",
       "\n",
       "    .dataframe thead th {\n",
       "        text-align: right;\n",
       "    }\n",
       "</style>\n",
       "<table border=\"1\" class=\"dataframe\">\n",
       "  <thead>\n",
       "    <tr style=\"text-align: right;\">\n",
       "      <th></th>\n",
       "      <th>permalink</th>\n",
       "      <th>name</th>\n",
       "      <th>homepage_url</th>\n",
       "      <th>category_list</th>\n",
       "      <th>funding_total_usd</th>\n",
       "      <th>status</th>\n",
       "      <th>country_code</th>\n",
       "      <th>state_code</th>\n",
       "      <th>region</th>\n",
       "      <th>city</th>\n",
       "      <th>funding_rounds</th>\n",
       "      <th>founded_at</th>\n",
       "      <th>first_funding_at</th>\n",
       "      <th>last_funding_at</th>\n",
       "      <th>New_category</th>\n",
       "    </tr>\n",
       "  </thead>\n",
       "  <tbody>\n",
       "    <tr>\n",
       "      <th>834</th>\n",
       "      <td>/organization/ruralserver</td>\n",
       "      <td>RuralServer</td>\n",
       "      <td>http://www.ruralserver.com</td>\n",
       "      <td>Cloud Computing|Cloud Data Services|Domains|In...</td>\n",
       "      <td>569</td>\n",
       "      <td>operating</td>\n",
       "      <td>IND</td>\n",
       "      <td>36</td>\n",
       "      <td>Delhi</td>\n",
       "      <td>Noida</td>\n",
       "      <td>1</td>\n",
       "      <td>1/1/2010</td>\n",
       "      <td>10/17/2013</td>\n",
       "      <td>10/17/2013</td>\n",
       "      <td>Cloud Computing</td>\n",
       "    </tr>\n",
       "  </tbody>\n",
       "</table>\n",
       "</div>"
      ],
      "text/plain": [
       "                     permalink         name                homepage_url  \\\n",
       "834  /organization/ruralserver  RuralServer  http://www.ruralserver.com   \n",
       "\n",
       "                                         category_list  funding_total_usd  \\\n",
       "834  Cloud Computing|Cloud Data Services|Domains|In...                569   \n",
       "\n",
       "        status country_code  state_code region   city  funding_rounds  \\\n",
       "834  operating          IND          36  Delhi  Noida               1   \n",
       "\n",
       "    founded_at first_funding_at last_funding_at     New_category  \n",
       "834   1/1/2010       10/17/2013      10/17/2013  Cloud Computing  "
      ]
     },
     "execution_count": 61,
     "metadata": {},
     "output_type": "execute_result"
    }
   ],
   "source": [
    "startup_df[startup_df['funding_total_usd']==569]"
   ]
  },
  {
   "cell_type": "markdown",
   "id": "95845cfe",
   "metadata": {},
   "source": [
    "rural server is the company with least fundings still sucessfully operating despite of lower fundings."
   ]
  },
  {
   "cell_type": "markdown",
   "id": "3ea1118a",
   "metadata": {},
   "source": [
    "the highest funding rounds was happen to gaint market players which are flipcart & snapdeal both are in e-commerce sector."
   ]
  },
  {
   "cell_type": "code",
   "execution_count": 64,
   "id": "8b759330",
   "metadata": {},
   "outputs": [
    {
     "data": {
      "text/plain": [
       "region\n",
       "Delhi                8631332416\n",
       "Mumbai               6744661374\n",
       "Bangalore            6479219121\n",
       "Kolkata              1260769050\n",
       "Chennai              1073574875\n",
       "Hyderabad             866317084\n",
       "IND - Other           318759368\n",
       "Pune                  285119427\n",
       "Haryana               206960999\n",
       "Jaipur                111983217\n",
       "Kochi                  57682886\n",
       "Indore                 52600000\n",
       "Ahmedabad              43212049\n",
       "Mysore                 23370000\n",
       "Bhubaneswar            22550000\n",
       "Chandigarh             13060000\n",
       "Mohali                 12260000\n",
       "Thiruvananthapuram      6000000\n",
       "Ludhiana                5000000\n",
       "Nasik                   4010000\n",
       "Goa                     2060000\n",
       "Vadodara                1770000\n",
       "Bhopal                  1600000\n",
       "Belgaum                 1330000\n",
       "Coimbatore               525000\n",
       "Jodhpur                  518394\n",
       "Thane                    500000\n",
       "Nagpur                   260000\n",
       "Jabalpur                 200000\n",
       "Faridabad                176605\n",
       "Ernakulam                173000\n",
       "Vellore                  171510\n",
       "Ghaziabad                127531\n",
       "Trivandrum               100000\n",
       "Surat                    100000\n",
       "Hubli                    100000\n",
       "Thrissur                  75000\n",
       "Mangalore                 36000\n",
       "Kanpur                    20000\n",
       "Guwahati                  19889\n",
       "Name: funding_total_usd, dtype: float64"
      ]
     },
     "execution_count": 64,
     "metadata": {},
     "output_type": "execute_result"
    }
   ],
   "source": [
    "# let us group by the sum of funding amount with respective to regions\n",
    "\n",
    "total_fundingamount_regions = startup_df.groupby('region')['funding_total_usd'].sum()\n",
    "sorted_fundingamount_regions = total_fundingamount_regions.sort_values(ascending=False)\n",
    "sorted_fundingamount_regions "
   ]
  },
  {
   "cell_type": "markdown",
   "id": "5e6f997f",
   "metadata": {},
   "source": [
    "- In terms of region wise fundings, even though Bangalore has highest number of startups (300), delhi gained overall higher funding amount(86 billion dollars) followed by mumbai(67 billion dollars), Bangalore (64 billion dollars), kolkata (12 billion dollars) & chennai (10 billion dollars).\n",
    "- This represents the funding amount was given based on value/popularity of startup."
   ]
  },
  {
   "cell_type": "code",
   "execution_count": 66,
   "id": "8f73eb4e",
   "metadata": {},
   "outputs": [
    {
     "data": {
      "image/png": "[encoded data removed]",
      "text/plain": [
       "<Figure size 1200x600 with 1 Axes>"
      ]
     },
     "metadata": {},
     "output_type": "display_data"
    }
   ],
   "source": [
    "# let us vizualize the distribution of funding rounds \n",
    "\n",
    "funding_round_counts = startup_df['funding_rounds'].value_counts().sort_index()\n",
    "\n",
    "plt.figure(figsize=(12, 6))\n",
    "bars= plt.bar(funding_round_counts.index, funding_round_counts.values, color='blue')\n",
    "plt.xlabel('Number of Funding Rounds')\n",
    "plt.ylabel('Count')\n",
    "plt.title('Distribution of Number of Funding Rounds')\n",
    "\n",
    "# Set the x-axis ticks explicitly to ensure all values are visible\n",
    "plt.xticks(funding_round_counts.index)\n",
    "\n",
    "# Adding data labels (count values) to the bars\n",
    "for bar, count in zip(bars, funding_round_counts):\n",
    "    plt.text(bar.get_x() + bar.get_width() / 2, bar.get_height() + 10, count, ha='center')\n",
    "# bar.get_x() + bar.get_width() / 2: This part determines the x-coordinate where the data label will be placed. \n",
    "# It calculates the center of the current bar by adding half of the bar's width to its starting x-coordinate.\n",
    "# bar.get_height() + 10: This part determines the y-coordinate where the data label will be placed. \n",
    "# It positions the label slightly above the top of the bar by adding 10 units to the bar's height.\n",
    "\n",
    "# Display the plot\n",
    "plt.show()"
   ]
  },
  {
   "cell_type": "markdown",
   "id": "bc30e3f1",
   "metadata": {},
   "source": [
    "from above distribution we see that very few comapnies having higher funding rounds, considering funding rounds >=7 to find which companies having more funding amount with high sucess rates."
   ]
  },
  {
   "cell_type": "code",
   "execution_count": 75,
   "id": "aa3bc9b0",
   "metadata": {},
   "outputs": [
    {
     "data": {
      "text/html": [
       "<div>\n",
       "<style scoped>\n",
       "    .dataframe tbody tr th:only-of-type {\n",
       "        vertical-align: middle;\n",
       "    }\n",
       "\n",
       "    .dataframe tbody tr th {\n",
       "        vertical-align: top;\n",
       "    }\n",
       "\n",
       "    .dataframe thead th {\n",
       "        text-align: right;\n",
       "    }\n",
       "</style>\n",
       "<table border=\"1\" class=\"dataframe\">\n",
       "  <thead>\n",
       "    <tr style=\"text-align: right;\">\n",
       "      <th></th>\n",
       "      <th>permalink</th>\n",
       "      <th>name</th>\n",
       "      <th>homepage_url</th>\n",
       "      <th>category_list</th>\n",
       "      <th>funding_total_usd</th>\n",
       "      <th>status</th>\n",
       "      <th>country_code</th>\n",
       "      <th>state_code</th>\n",
       "      <th>region</th>\n",
       "      <th>city</th>\n",
       "      <th>funding_rounds</th>\n",
       "      <th>founded_at</th>\n",
       "      <th>first_funding_at</th>\n",
       "      <th>last_funding_at</th>\n",
       "      <th>New_category</th>\n",
       "    </tr>\n",
       "  </thead>\n",
       "  <tbody>\n",
       "    <tr>\n",
       "      <th>321</th>\n",
       "      <td>/organization/flipkart</td>\n",
       "      <td>Flipkart</td>\n",
       "      <td>http://www.flipkart.com</td>\n",
       "      <td>E-Commerce|Online Shopping</td>\n",
       "      <td>3151140000</td>\n",
       "      <td>operating</td>\n",
       "      <td>IND</td>\n",
       "      <td>19</td>\n",
       "      <td>Bangalore</td>\n",
       "      <td>Bangalore</td>\n",
       "      <td>12</td>\n",
       "      <td>9/1/2007</td>\n",
       "      <td>1/1/2009</td>\n",
       "      <td>7/28/2015</td>\n",
       "      <td>E-Commerce</td>\n",
       "    </tr>\n",
       "    <tr>\n",
       "      <th>889</th>\n",
       "      <td>/organization/snapdeal</td>\n",
       "      <td>Snapdeal</td>\n",
       "      <td>http://www.snapdeal.com</td>\n",
       "      <td>E-Commerce</td>\n",
       "      <td>1897699998</td>\n",
       "      <td>operating</td>\n",
       "      <td>IND</td>\n",
       "      <td>7</td>\n",
       "      <td>Delhi</td>\n",
       "      <td>New Delhi</td>\n",
       "      <td>11</td>\n",
       "      <td>1/1/2010</td>\n",
       "      <td>1/1/2011</td>\n",
       "      <td>8/18/2015</td>\n",
       "      <td>E-Commerce</td>\n",
       "    </tr>\n",
       "    <tr>\n",
       "      <th>38</th>\n",
       "      <td>/organization/ani-technologies</td>\n",
       "      <td>Ola</td>\n",
       "      <td>http://www.olacabs.com</td>\n",
       "      <td>Automotive|E-Commerce|Internet|Mobile|Mobile C...</td>\n",
       "      <td>1176830000</td>\n",
       "      <td>operating</td>\n",
       "      <td>IND</td>\n",
       "      <td>28</td>\n",
       "      <td>Kolkata</td>\n",
       "      <td>Kolkata</td>\n",
       "      <td>7</td>\n",
       "      <td>12/3/2010</td>\n",
       "      <td>4/21/2011</td>\n",
       "      <td>11/17/2015</td>\n",
       "      <td>Automotive</td>\n",
       "    </tr>\n",
       "    <tr>\n",
       "      <th>1120</th>\n",
       "      <td>/organization/zomato</td>\n",
       "      <td>Zomato</td>\n",
       "      <td>https://www.zomato.com/</td>\n",
       "      <td>Content Discovery|Hospitality|Local Search|Res...</td>\n",
       "      <td>223800000</td>\n",
       "      <td>operating</td>\n",
       "      <td>IND</td>\n",
       "      <td>10</td>\n",
       "      <td>Delhi</td>\n",
       "      <td>Gurgaon</td>\n",
       "      <td>8</td>\n",
       "      <td>7/10/2008</td>\n",
       "      <td>8/1/2010</td>\n",
       "      <td>9/7/2015</td>\n",
       "      <td>Content Discovery</td>\n",
       "    </tr>\n",
       "    <tr>\n",
       "      <th>594</th>\n",
       "      <td>/organization/manthan-systems</td>\n",
       "      <td>Manthan Systems</td>\n",
       "      <td>http://www.manthansystems.com</td>\n",
       "      <td>Analytics|Big Data Analytics|Business Intellig...</td>\n",
       "      <td>56700000</td>\n",
       "      <td>operating</td>\n",
       "      <td>IND</td>\n",
       "      <td>19</td>\n",
       "      <td>Bangalore</td>\n",
       "      <td>Bangalore</td>\n",
       "      <td>7</td>\n",
       "      <td>1/1/2003</td>\n",
       "      <td>3/1/2007</td>\n",
       "      <td>3/20/2015</td>\n",
       "      <td>Analytics</td>\n",
       "    </tr>\n",
       "  </tbody>\n",
       "</table>\n",
       "</div>"
      ],
      "text/plain": [
       "                           permalink             name  \\\n",
       "321           /organization/flipkart         Flipkart   \n",
       "889           /organization/snapdeal         Snapdeal   \n",
       "38    /organization/ani-technologies              Ola   \n",
       "1120            /organization/zomato           Zomato   \n",
       "594    /organization/manthan-systems  Manthan Systems   \n",
       "\n",
       "                       homepage_url  \\\n",
       "321         http://www.flipkart.com   \n",
       "889         http://www.snapdeal.com   \n",
       "38           http://www.olacabs.com   \n",
       "1120        https://www.zomato.com/   \n",
       "594   http://www.manthansystems.com   \n",
       "\n",
       "                                          category_list  funding_total_usd  \\\n",
       "321                          E-Commerce|Online Shopping         3151140000   \n",
       "889                                          E-Commerce         1897699998   \n",
       "38    Automotive|E-Commerce|Internet|Mobile|Mobile C...         1176830000   \n",
       "1120  Content Discovery|Hospitality|Local Search|Res...          223800000   \n",
       "594   Analytics|Big Data Analytics|Business Intellig...           56700000   \n",
       "\n",
       "         status country_code  state_code     region       city  \\\n",
       "321   operating          IND          19  Bangalore  Bangalore   \n",
       "889   operating          IND           7      Delhi  New Delhi   \n",
       "38    operating          IND          28    Kolkata    Kolkata   \n",
       "1120  operating          IND          10      Delhi    Gurgaon   \n",
       "594   operating          IND          19  Bangalore  Bangalore   \n",
       "\n",
       "      funding_rounds founded_at first_funding_at last_funding_at  \\\n",
       "321               12   9/1/2007         1/1/2009       7/28/2015   \n",
       "889               11   1/1/2010         1/1/2011       8/18/2015   \n",
       "38                 7  12/3/2010        4/21/2011      11/17/2015   \n",
       "1120               8  7/10/2008         8/1/2010        9/7/2015   \n",
       "594                7   1/1/2003         3/1/2007       3/20/2015   \n",
       "\n",
       "           New_category  \n",
       "321          E-Commerce  \n",
       "889          E-Commerce  \n",
       "38           Automotive  \n",
       "1120  Content Discovery  \n",
       "594           Analytics  "
      ]
     },
     "execution_count": 75,
     "metadata": {},
     "output_type": "execute_result"
    }
   ],
   "source": [
    "# Filtering comapnies with higher funding rounds(greter than 7)\n",
    "\n",
    "filtering = startup_df[startup_df['funding_rounds']>=7]\n",
    "sorted_funding_rounds = filtering.sort_values(by=['funding_total_usd'],ascending=False)\n",
    "sorted_funding_rounds"
   ]
  },
  {
   "cell_type": "markdown",
   "id": "0e272446",
   "metadata": {},
   "source": [
    "- From above analysis, filkart, snapdeal are in top in terms of funding rounds followed by zomato, ola, manthan systems with 8 to 7 rounds of funding respectively, all these 5 companies are in top players in recent times in their categories which represents higher funding rounds. \n",
    "- It represents their could be a possible relationship b/w funding amount, funding rounds with startup sucess.\n",
    "- To understand this, lets run hypothesis analysis to understand further."
   ]
  },
  {
   "cell_type": "markdown",
   "id": "e9451461",
   "metadata": {},
   "source": [
    "#### Hypothesis testing:\n",
    "Hypothesis 1: Funding Amount and Startup Success:\n",
    "- Null Hypothesis: There is no significant difference in the mean funding amount between successful startups (operating) and failed startups (closed).\n",
    "- Alternative Hypothesis: Successful startups receive a significantly higher mean funding amount compared to failed startups.\n",
    "- Analysis: Conduct a t-test to compare the funding amounts of operating and closed startups and determine if there is a statistically significant difference.\n",
    "\n",
    "Using an independent sample t-test in this context is justified for the following reasons:\n",
    "\n",
    "Comparing Two Independent Groups: The independent sample t-test is suitable when we are comparing two separate and independent groups, which aligns perfectly with our scenario of comparing currently operating startups with startups that have closed. These two groups are distinct and unrelated in terms of their current status.\n",
    "\n",
    "Continuous Numeric Data: The t-test is designed for comparing means of continuous numerical data, which is precisely what we have in our hypothesis testing. We are interested in comparing the mean funds raised, a continuous variable, between the two groups.\n",
    "\n",
    "Normal Distribution Assumption: The t-test assumes that the data within each group follows a normal distribution. While this assumption should be checked, it often holds reasonably well for financial data, especially when the sample size is sufficiently large ~ we know basis EDA that both have >30 sample size\n",
    "\n",
    "Homogeneity of Variance: We must check that using Levene Test.\n",
    "\t\t"
   ]
  },
  {
   "cell_type": "markdown",
   "id": "df5d910d",
   "metadata": {},
   "source": [
    "The Levene's Test is a statistical test used to assess whether the variances of two or more groups are equal or homogenous. It is particularly valuable when comparing multiple groups with the same independent variable to ensure that the assumption of homogeneity of variances, a key assumption in many statistical tests, is met.\n",
    "\n",
    "Null Hypothesis (H0): The null hypothesis in Levene's Test is that there are no significant differences in the variances of the groups being compared. In other words, it assumes that the variances are equal across all groups.\n",
    "\n",
    "Alternative Hypothesis (H1): The alternative hypothesis in Levene's Test is that there are significant differences in the variances of the groups being compared. If the p-value is sufficiently small, you would reject the null hypothesis in favor of the alternative, indicating that at least one group has a significantly different variance compared to the others.\n",
    "\n",
    "In practical terms, Levene's Test helps you determine whether it's appropriate to use statistical tests that assume equal variances across groups, such as the independent sample t-test or analysis of variance (ANOVA). If the test indicates unequal variances, you may need to consider alternative statistical methods that are more robust to heteroscedasticity (unequal variances).\n",
    "\n",
    "Overall, Levene's Test is a valuable tool in the field of statistics for assessing the homogeneity of variances and ensuring the validity of subsequent statistical analyses."
   ]
  },
  {
   "cell_type": "code",
   "execution_count": 76,
   "id": "9bf59287",
   "metadata": {},
   "outputs": [
    {
     "name": "stdout",
     "output_type": "stream",
     "text": [
      "Levene's Test Statistic: 0.3607453702528289\n",
      "P-value: 0.5482127964683872\n",
      "Fail to reject the null hypothesis: Variances are equal.\n"
     ]
    }
   ],
   "source": [
    "from scipy import stats\n",
    "group1 = startup_df[startup_df['status'] == 'operating']['funding_total_usd']\n",
    "group2 = startup_df[startup_df['status'] == 'closed']['funding_total_usd']\n",
    "\n",
    "stat, p_value = stats.levene(group1, group2)\n",
    "print(f\"Levene's Test Statistic: {stat}\")\n",
    "print(f\"P-value: {p_value}\")\n",
    "\n",
    "if p_value < 0.05:\n",
    "    print(\"Reject the null hypothesis: Variances are not equal.\")\n",
    "else:\n",
    "    print(\"Fail to reject the null hypothesis: Variances are equal.\")"
   ]
  },
  {
   "cell_type": "markdown",
   "id": "1c6451b9",
   "metadata": {},
   "source": [
    "hence, it satisfies the levene's test, where varience are equal, we can proceed for further independent t-test analysis."
   ]
  },
  {
   "cell_type": "code",
   "execution_count": 79,
   "id": "f2b8a14a",
   "metadata": {},
   "outputs": [
    {
     "data": {
      "text/plain": [
       "Funds_Sample1    1085\n",
       "dtype: int64"
      ]
     },
     "execution_count": 79,
     "metadata": {},
     "output_type": "execute_result"
    }
   ],
   "source": [
    "# Hypothesis 1\n",
    "\n",
    "# creating seperate dataframe of total funds for operating & closed startups.\n",
    "df1 = startup_df.loc[startup_df['status'] == 'operating', ['funding_total_usd']].rename(columns={'funding_total_usd':'Funds_Sample1'}).reset_index(drop=True)\n",
    "\n",
    "df1.head()\n",
    "df1.count()"
   ]
  },
  {
   "cell_type": "code",
   "execution_count": 82,
   "id": "93a59b49",
   "metadata": {},
   "outputs": [
    {
     "data": {
      "text/plain": [
       "Funds_Sample2    49\n",
       "dtype: int64"
      ]
     },
     "execution_count": 82,
     "metadata": {},
     "output_type": "execute_result"
    }
   ],
   "source": [
    "# creating seperate dataframe of total funds for operating & closed startups.\n",
    "\n",
    "df2 = startup_df.loc[startup_df['status'] == 'closed', ['funding_total_usd']].rename(columns={'funding_total_usd':'Funds_Sample2'}).reset_index(drop=True)\n",
    "\n",
    "df2.head()\n",
    "df2.count()"
   ]
  },
  {
   "cell_type": "code",
   "execution_count": 84,
   "id": "714d8f3e",
   "metadata": {},
   "outputs": [
    {
     "data": {
      "text/plain": [
       "Funds_Sample1    1085\n",
       "Funds_Sample2      49\n",
       "dtype: int64"
      ]
     },
     "execution_count": 84,
     "metadata": {},
     "output_type": "execute_result"
    }
   ],
   "source": [
    "# Creating a new dataframe by concatinating above two for further analysis\n",
    "df3 = pd.concat([df1, df2], axis = 1)\n",
    "df3.head()\n",
    "df3.count()"
   ]
  },
  {
   "cell_type": "code",
   "execution_count": 87,
   "id": "eccb8c49",
   "metadata": {},
   "outputs": [
    {
     "name": "stdout",
     "output_type": "stream",
     "text": [
      "the mean funds of operating startup is: 23981373.343251705\n"
     ]
    }
   ],
   "source": [
    "# calculating mean values for operating & closed startups\n",
    "\n",
    "mean_1 = df3['Funds_Sample1'].mean()\n",
    "print('the mean funds of operating startup is:', mean_1)"
   ]
  },
  {
   "cell_type": "code",
   "execution_count": 88,
   "id": "039f0595",
   "metadata": {},
   "outputs": [
    {
     "name": "stdout",
     "output_type": "stream",
     "text": [
      "the mean funds of closed startup is: 10322911.346938776\n"
     ]
    }
   ],
   "source": [
    "mean_2 = df3['Funds_Sample2'].mean()\n",
    "print('the mean funds of closed startup is:', mean_2)"
   ]
  },
  {
   "cell_type": "markdown",
   "id": "02362861",
   "metadata": {},
   "source": [
    "- Null Hypothesis(H0): There is no significant difference in the mean funding amount between successful startups (operating) and failed startups (closed).\n",
    "\n",
    "HO : mean_1 = mean_2\n",
    "\n",
    "- Alternative Hypothesis(H1): Successful startups receive a significantly higher mean funding amount compared to failed startups.\n",
    "\n",
    "H1 : mean_1 > mean_2\n",
    "\n",
    "Also our alpha is 0.05"
   ]
  },
  {
   "cell_type": "code",
   "execution_count": 89,
   "id": "27b3110f",
   "metadata": {},
   "outputs": [],
   "source": [
    "#load library\n",
    "\n",
    "from scipy.stats import ttest_ind"
   ]
  },
  {
   "cell_type": "code",
   "execution_count": 90,
   "id": "73d2341c",
   "metadata": {},
   "outputs": [
    {
     "name": "stdout",
     "output_type": "stream",
     "text": [
      "T-statistic: 0.6085283061630901\n",
      "P-value: 0.5429592211146086\n"
     ]
    }
   ],
   "source": [
    "# Hypothesis Testing\n",
    "\n",
    "t, pvalue = ttest_ind(df3['Funds_Sample1'], df3['Funds_Sample2'], nan_policy = 'omit')\n",
    "\n",
    "# Print results\n",
    "print('T-statistic:', t)\n",
    "print('P-value:', pvalue)\n"
   ]
  },
  {
   "cell_type": "markdown",
   "id": "399d812e",
   "metadata": {},
   "source": [
    "HERE PVALUE (0.543 > 0.05) IS GRETER THAN ALPHA VALUE,  leads us to fail to reject the null hypothesis with 95% confidence. Therefore, we conclude that there is no statistically significant difference in the funds raised between currently operating startups and closed startups."
   ]
  },
  {
   "cell_type": "markdown",
   "id": "388f828a",
   "metadata": {},
   "source": [
    "Hypothesis 2: Relationship between number of funding rounds for operating Startups & closed startups\n",
    "\n",
    "Null Hypothesis: There is no significant difference in the no. of funding rounds between successful startups (operating) and failed startups (closed).\n",
    "Alternative Hypothesis: There is a significant difference in the no. of funding rounds between successful startups (operating) and failed startups (closed).\n",
    "Analysis: Perform a chi-square test or ANOVA to investigate if there are significant differences in the number of funding rounds between successful startups (operating) and failed startups (closed).\n",
    "\n",
    "The Chi-Square Test of Independence is typically used when you have categorical data and you want to investigate whether there is a statistically significant association or relationship between two categorical variables.\n",
    "\n",
    "In our case, you are interested in the number of funding rounds (which is likely a discrete, count variable) and the status of startups (which is categorical - either \"currently operating\" or \"closed\").\n",
    "\n",
    "Here's why the Chi-Square Test of Independence is suitable for our hypothesis.\n",
    "\n",
    "We know that observations are independent, Cells in the contingency table are mutually exclusive, The only thing we need to check is if ~ Expected value of cells should be 5 or greater in at least 80% of cells."
   ]
  },
  {
   "cell_type": "code",
   "execution_count": 91,
   "id": "1a9424fd",
   "metadata": {},
   "outputs": [
    {
     "data": {
      "text/html": [
       "<div>\n",
       "<style scoped>\n",
       "    .dataframe tbody tr th:only-of-type {\n",
       "        vertical-align: middle;\n",
       "    }\n",
       "\n",
       "    .dataframe tbody tr th {\n",
       "        vertical-align: top;\n",
       "    }\n",
       "\n",
       "    .dataframe thead th {\n",
       "        text-align: right;\n",
       "    }\n",
       "</style>\n",
       "<table border=\"1\" class=\"dataframe\">\n",
       "  <thead>\n",
       "    <tr style=\"text-align: right;\">\n",
       "      <th></th>\n",
       "      <th>permalink</th>\n",
       "      <th>name</th>\n",
       "      <th>homepage_url</th>\n",
       "      <th>category_list</th>\n",
       "      <th>funding_total_usd</th>\n",
       "      <th>status</th>\n",
       "      <th>country_code</th>\n",
       "      <th>state_code</th>\n",
       "      <th>region</th>\n",
       "      <th>city</th>\n",
       "      <th>funding_rounds</th>\n",
       "      <th>founded_at</th>\n",
       "      <th>first_funding_at</th>\n",
       "      <th>last_funding_at</th>\n",
       "      <th>New_category</th>\n",
       "      <th>rounds of funding category</th>\n",
       "    </tr>\n",
       "  </thead>\n",
       "  <tbody>\n",
       "    <tr>\n",
       "      <th>0</th>\n",
       "      <td>/organization/-fame</td>\n",
       "      <td>#fame</td>\n",
       "      <td>http://livfame.com</td>\n",
       "      <td>Media</td>\n",
       "      <td>10000000</td>\n",
       "      <td>operating</td>\n",
       "      <td>IND</td>\n",
       "      <td>16</td>\n",
       "      <td>Mumbai</td>\n",
       "      <td>Mumbai</td>\n",
       "      <td>1</td>\n",
       "      <td>NaN</td>\n",
       "      <td>1/5/2015</td>\n",
       "      <td>1/5/2015</td>\n",
       "      <td>Media</td>\n",
       "      <td>1</td>\n",
       "    </tr>\n",
       "    <tr>\n",
       "      <th>1</th>\n",
       "      <td>/organization/21diamonds-india</td>\n",
       "      <td>21Diamonds</td>\n",
       "      <td>http://www.21diamonds.de</td>\n",
       "      <td>E-Commerce</td>\n",
       "      <td>6369507</td>\n",
       "      <td>operating</td>\n",
       "      <td>IND</td>\n",
       "      <td>10</td>\n",
       "      <td>Delhi</td>\n",
       "      <td>Gurgaon</td>\n",
       "      <td>1</td>\n",
       "      <td>6/1/2012</td>\n",
       "      <td>11/15/2012</td>\n",
       "      <td>11/15/2012</td>\n",
       "      <td>E-Commerce</td>\n",
       "      <td>1</td>\n",
       "    </tr>\n",
       "    <tr>\n",
       "      <th>2</th>\n",
       "      <td>/organization/247-learning-private</td>\n",
       "      <td>24x7 Learning</td>\n",
       "      <td>http://www.24x7learning.com</td>\n",
       "      <td>EdTech|Education|Systems</td>\n",
       "      <td>4000000</td>\n",
       "      <td>operating</td>\n",
       "      <td>IND</td>\n",
       "      <td>19</td>\n",
       "      <td>Bangalore</td>\n",
       "      <td>Bangalore</td>\n",
       "      <td>1</td>\n",
       "      <td>1/1/2001</td>\n",
       "      <td>11/6/2007</td>\n",
       "      <td>11/6/2007</td>\n",
       "      <td>EdTech</td>\n",
       "      <td>1</td>\n",
       "    </tr>\n",
       "    <tr>\n",
       "      <th>3</th>\n",
       "      <td>/organization/33coupons</td>\n",
       "      <td>33Coupons</td>\n",
       "      <td>http://33coupons.in</td>\n",
       "      <td>Internet</td>\n",
       "      <td>20000</td>\n",
       "      <td>operating</td>\n",
       "      <td>IND</td>\n",
       "      <td>36</td>\n",
       "      <td>Kanpur</td>\n",
       "      <td>Kanpur</td>\n",
       "      <td>1</td>\n",
       "      <td>5/1/2015</td>\n",
       "      <td>7/6/2015</td>\n",
       "      <td>7/6/2015</td>\n",
       "      <td>Internet</td>\n",
       "      <td>1</td>\n",
       "    </tr>\n",
       "    <tr>\n",
       "      <th>4</th>\n",
       "      <td>/organization/3dsoc</td>\n",
       "      <td>3DSoC</td>\n",
       "      <td>http://www.3dsoc.com</td>\n",
       "      <td>3D|Mobile</td>\n",
       "      <td>2065000</td>\n",
       "      <td>operating</td>\n",
       "      <td>IND</td>\n",
       "      <td>19</td>\n",
       "      <td>Bangalore</td>\n",
       "      <td>Bangalore</td>\n",
       "      <td>2</td>\n",
       "      <td>6/1/2006</td>\n",
       "      <td>12/1/2007</td>\n",
       "      <td>8/1/2010</td>\n",
       "      <td>3D</td>\n",
       "      <td>2</td>\n",
       "    </tr>\n",
       "  </tbody>\n",
       "</table>\n",
       "</div>"
      ],
      "text/plain": [
       "                            permalink           name  \\\n",
       "0                 /organization/-fame          #fame   \n",
       "1      /organization/21diamonds-india     21Diamonds   \n",
       "2  /organization/247-learning-private  24x7 Learning   \n",
       "3             /organization/33coupons      33Coupons   \n",
       "4                 /organization/3dsoc          3DSoC   \n",
       "\n",
       "                  homepage_url             category_list  funding_total_usd  \\\n",
       "0           http://livfame.com                     Media           10000000   \n",
       "1     http://www.21diamonds.de                E-Commerce            6369507   \n",
       "2  http://www.24x7learning.com  EdTech|Education|Systems            4000000   \n",
       "3          http://33coupons.in                  Internet              20000   \n",
       "4         http://www.3dsoc.com                 3D|Mobile            2065000   \n",
       "\n",
       "      status country_code  state_code     region       city  funding_rounds  \\\n",
       "0  operating          IND          16     Mumbai     Mumbai               1   \n",
       "1  operating          IND          10      Delhi    Gurgaon               1   \n",
       "2  operating          IND          19  Bangalore  Bangalore               1   \n",
       "3  operating          IND          36     Kanpur     Kanpur               1   \n",
       "4  operating          IND          19  Bangalore  Bangalore               2   \n",
       "\n",
       "  founded_at first_funding_at last_funding_at New_category  \\\n",
       "0        NaN         1/5/2015        1/5/2015        Media   \n",
       "1   6/1/2012       11/15/2012      11/15/2012   E-Commerce   \n",
       "2   1/1/2001        11/6/2007       11/6/2007       EdTech   \n",
       "3   5/1/2015         7/6/2015        7/6/2015     Internet   \n",
       "4   6/1/2006        12/1/2007        8/1/2010           3D   \n",
       "\n",
       "  rounds of funding category  \n",
       "0                          1  \n",
       "1                          1  \n",
       "2                          1  \n",
       "3                          1  \n",
       "4                          2  "
      ]
     },
     "execution_count": 91,
     "metadata": {},
     "output_type": "execute_result"
    }
   ],
   "source": [
    "# let us categorize the funding rounds\n",
    "\n",
    "# Define a function to categorize funding rounds\n",
    "def categorize_rounds(round):\n",
    "    if round == 1:\n",
    "        return '1'\n",
    "    elif round == 2:\n",
    "        return '2'\n",
    "    else:\n",
    "        return '3+'\n",
    "\n",
    "# Apply the categorize_rounds function to create a new 'category' column\n",
    "startup_df['rounds of funding category'] = startup_df['funding_rounds'].apply(categorize_rounds)\n",
    "\n",
    "# Print the DataFrame with the new category column\n",
    "startup_df.head()"
   ]
  },
  {
   "cell_type": "code",
   "execution_count": 92,
   "id": "47266047",
   "metadata": {},
   "outputs": [
    {
     "data": {
      "text/html": [
       "<div>\n",
       "<style scoped>\n",
       "    .dataframe tbody tr th:only-of-type {\n",
       "        vertical-align: middle;\n",
       "    }\n",
       "\n",
       "    .dataframe tbody tr th {\n",
       "        vertical-align: top;\n",
       "    }\n",
       "\n",
       "    .dataframe thead th {\n",
       "        text-align: right;\n",
       "    }\n",
       "</style>\n",
       "<table border=\"1\" class=\"dataframe\">\n",
       "  <thead>\n",
       "    <tr style=\"text-align: right;\">\n",
       "      <th>status</th>\n",
       "      <th>closed</th>\n",
       "      <th>operating</th>\n",
       "    </tr>\n",
       "    <tr>\n",
       "      <th>rounds of funding category</th>\n",
       "      <th></th>\n",
       "      <th></th>\n",
       "    </tr>\n",
       "  </thead>\n",
       "  <tbody>\n",
       "    <tr>\n",
       "      <th>1</th>\n",
       "      <td>39</td>\n",
       "      <td>756</td>\n",
       "    </tr>\n",
       "    <tr>\n",
       "      <th>2</th>\n",
       "      <td>7</td>\n",
       "      <td>198</td>\n",
       "    </tr>\n",
       "    <tr>\n",
       "      <th>3+</th>\n",
       "      <td>3</td>\n",
       "      <td>131</td>\n",
       "    </tr>\n",
       "  </tbody>\n",
       "</table>\n",
       "</div>"
      ],
      "text/plain": [
       "status                      closed  operating\n",
       "rounds of funding category                   \n",
       "1                               39        756\n",
       "2                                7        198\n",
       "3+                               3        131"
      ]
     },
     "execution_count": 92,
     "metadata": {},
     "output_type": "execute_result"
    }
   ],
   "source": [
    "# Create cross tab This function is used to compute a simple cross-tabulation of two (or more) factors.\n",
    "pd.crosstab(startup_df['rounds of funding category'], startup_df['status'])"
   ]
  },
  {
   "cell_type": "code",
   "execution_count": 93,
   "id": "89ece2f3",
   "metadata": {},
   "outputs": [
    {
     "name": "stdout",
     "output_type": "stream",
     "text": [
      "Expected Frequencies:\n",
      "status                      closed  operating\n",
      "rounds of funding category                   \n",
      "1                               34        761\n",
      "2                                9        196\n",
      "3+                               6        128\n"
     ]
    }
   ],
   "source": [
    "contingency_table = pd.crosstab(startup_df['rounds of funding category'], startup_df['status'])\n",
    "\n",
    "# Calculate expected frequencies\n",
    "expected_frequencies = stats.contingency.expected_freq(contingency_table)\n",
    "\n",
    "# Create a DataFrame to display the expected frequencies\n",
    "expected_df = pd.DataFrame(expected_frequencies, columns=contingency_table.columns, index=contingency_table.index)\n",
    "\n",
    "# Display the expected frequencies\n",
    "print(\"Expected Frequencies:\")\n",
    "print(expected_df)"
   ]
  },
  {
   "cell_type": "markdown",
   "id": "791e6ba4",
   "metadata": {},
   "source": [
    "All the values in the expected frequencies exceed the threshold of 5, indicating that our dataset meets the assumption of expected cell frequencies for the Chi-Square Test of Independence. Consequently, we are well-equipped to advance with our hypothesis testing."
   ]
  },
  {
   "cell_type": "code",
   "execution_count": 94,
   "id": "49580f19",
   "metadata": {},
   "outputs": [
    {
     "name": "stdout",
     "output_type": "stream",
     "text": [
      "The p-value is 0.2908506204110049\n"
     ]
    }
   ],
   "source": [
    "# Import library\n",
    "from scipy.stats import chi2_contingency\n",
    "\n",
    "# Run the Chi Square Test\n",
    "\n",
    "chi2, pval, dof, exp_freq = chi2_contingency(contingency_table, correction = False)\n",
    "print('The p-value is',pval)"
   ]
  },
  {
   "cell_type": "markdown",
   "id": "57c4cfce",
   "metadata": {},
   "source": [
    "p value > 0.05 as a result, we fail to reject the null hypothesis. This suggests that there is no statistically significant difference in the number of funding rounds between currently operating startups and startups that have closed, based on our dataset and chosen level of significance."
   ]
  },
  {
   "cell_type": "markdown",
   "id": "27e593f2",
   "metadata": {},
   "source": [
    "Based on the statistical analyses conducted, it can be concluded that:\n",
    "\n",
    "There is no statistically significant difference in the funds raised by currently operating startups and startups that have closed, as per the independent sample t-test. There is no statistically significant association between the number of funding rounds and the status of startups, as indicated by the Chi-Square Test of Independence."
   ]
  },
  {
   "cell_type": "markdown",
   "id": "939a5516",
   "metadata": {},
   "source": [
    "### Acknowledgement:\n",
    "Thanks to @aditi @dataanalystduo team for providing dataset & their guidence throughout the project."
   ]
  },
  {
   "cell_type": "markdown",
   "id": "8813517a",
   "metadata": {},
   "source": [
    "\n",
    "# Thankyou"
   ]
  },
  {
   "cell_type": "code",
   "execution_count": null,
   "id": "0ddaeff0",
   "metadata": {},
   "outputs": [],
   "source": []
  }
 ],
 "metadata": {
  "kernelspec": {
   "display_name": "Python 3 (ipykernel)",
   "language": "python",
   "name": "python3"
  },
  "language_info": {
   "codemirror_mode": {
    "name": "ipython",
    "version": 3
   },
   "file_extension": ".py",
   "mimetype": "text/x-python",
   "name": "python",
   "nbconvert_exporter": "python",
   "pygments_lexer": "ipython3",
   "version": "3.11.5"
  }
 },
 "nbformat": 4,
 "nbformat_minor": 5
}
